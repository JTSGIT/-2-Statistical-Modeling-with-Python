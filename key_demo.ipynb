{
 "cells": [
  {
   "cell_type": "code",
   "execution_count": 6,
   "metadata": {},
   "outputs": [
    {
     "name": "stdout",
     "output_type": "stream",
     "text": [
      "environ({'COMMAND_MODE': 'unix2003', 'CONDA_DEFAULT_ENV': 'base', 'CONDA_EXE': '/Users/jorgen/anaconda3/bin/conda', 'CONDA_PREFIX': '/Users/jorgen/anaconda3', 'CONDA_PROMPT_MODIFIER': '(base) ', 'CONDA_PYTHON_EXE': '/Users/jorgen/anaconda3/bin/python', 'CONDA_SHLVL': '1', 'CPL_ZIP_ENCODING': 'UTF-8', 'GDAL_DATA': '/Users/jorgen/anaconda3/share/gdal', 'GDAL_DRIVER_PATH': '/Users/jorgen/anaconda3/lib/gdalplugins', 'HOME': '/Users/jorgen', 'HOMEBREW_CELLAR': '/opt/homebrew/Cellar', 'HOMEBREW_PREFIX': '/opt/homebrew', 'HOMEBREW_REPOSITORY': '/opt/homebrew', 'INFOPATH': '/opt/homebrew/share/info:', 'LOGNAME': 'jorgen', 'MANPATH': '/opt/homebrew/share/man::', 'MallocNanoZone': '0', 'OLDPWD': '/', 'ORIGINAL_XDG_CURRENT_DESKTOP': 'undefined', 'PATH': '/Users/jorgen/anaconda3/bin:/Users/jorgen/anaconda3/condabin:/opt/homebrew/bin:/opt/homebrew/sbin:/usr/local/bin:/System/Cryptexes/App/usr/bin:/usr/bin:/bin:/usr/sbin:/sbin:/var/run/com.apple.security.cryptexd/codex.system/bootstrap/usr/local/bin:/var/run/com.apple.security.cryptexd/codex.system/bootstrap/usr/bin:/var/run/com.apple.security.cryptexd/codex.system/bootstrap/usr/appleinternal/bin:/Users/jorgen/Library/Application Support/JetBrains/Toolbox/scripts', 'PROJ_DATA': '/Users/jorgen/anaconda3/share/proj', 'PROJ_NETWORK': 'ON', 'PWD': '/', 'SHELL': '/bin/zsh', 'SHLVL': '2', 'SSH_AUTH_SOCK': '/private/tmp/com.apple.launchd.GOmiTvzs5t/Listeners', 'TMPDIR': '/var/folders/8n/0r42jsb57hn5qqr_97pb0d240000gn/T/', 'USER': 'jorgen', 'VSCODE_AMD_ENTRYPOINT': 'vs/workbench/api/node/extensionHostProcess', 'VSCODE_CODE_CACHE_PATH': '/Users/jorgen/Library/Application Support/Code/CachedData/e170252f762678dec6ca2cc69aba1570769a5d39', 'VSCODE_CRASH_REPORTER_PROCESS_TYPE': 'extensionHost', 'VSCODE_CWD': '/', 'VSCODE_HANDLES_UNCAUGHT_ERRORS': 'true', 'VSCODE_IPC_HOOK': '/Users/jorgen/Library/Application Support/Code/1.88-main.sock', 'VSCODE_NLS_CONFIG': '{\"locale\":\"en-us\",\"osLocale\":\"en-ca\",\"availableLanguages\":{},\"_languagePackSupport\":true}', 'VSCODE_PID': '26857', 'XPC_FLAGS': '0x0', 'XPC_SERVICE_NAME': '0', '_': '/Users/jorgen/anaconda3/bin/python', '__CFBundleIdentifier': 'com.microsoft.VSCode', '__CF_USER_TEXT_ENCODING': '0x1F5:0x0:0x52', 'ELECTRON_RUN_AS_NODE': '1', 'VSCODE_L10N_BUNDLE_LOCATION': '', 'PYTHONUNBUFFERED': '1', 'PYTHONIOENCODING': 'utf-8', '_CE_CONDA': '', 'CONDA_ROOT': '/Users/jorgen/anaconda3', '_CE_M': '', 'LC_CTYPE': 'UTF-8', 'PYDEVD_IPYTHON_COMPATIBLE_DEBUGGING': '1', 'PYDEVD_USE_FRAME_EVAL': 'NO', 'TERM': 'xterm-color', 'CLICOLOR': '1', 'FORCE_COLOR': '1', 'CLICOLOR_FORCE': '1', 'PAGER': 'cat', 'GIT_PAGER': 'cat', 'MPLBACKEND': 'module://matplotlib_inline.backend_inline'})\n"
     ]
    }
   ],
   "source": [
    "import os\n",
    "print(os.environ)"
   ]
  },
  {
   "cell_type": "code",
   "execution_count": 8,
   "metadata": {},
   "outputs": [
    {
     "ename": "KeyError",
     "evalue": "'YELP_API_KEY'",
     "output_type": "error",
     "traceback": [
      "\u001b[0;31m---------------------------------------------------------------------------\u001b[0m",
      "\u001b[0;31mKeyError\u001b[0m                                  Traceback (most recent call last)",
      "Cell \u001b[0;32mIn[8], line 1\u001b[0m\n\u001b[0;32m----> 1\u001b[0m yelp_api_key \u001b[38;5;241m=\u001b[39m os\u001b[38;5;241m.\u001b[39menviron[\u001b[38;5;124m'\u001b[39m\u001b[38;5;124mYELP_API_KEY\u001b[39m\u001b[38;5;124m'\u001b[39m]\n",
      "File \u001b[0;32m<frozen os>:679\u001b[0m, in \u001b[0;36m__getitem__\u001b[0;34m(self, key)\u001b[0m\n",
      "\u001b[0;31mKeyError\u001b[0m: 'YELP_API_KEY'"
     ]
    }
   ],
   "source": [
    "yelp_api_key = os.environ['YELP_API_KEY']"
   ]
  },
  {
   "cell_type": "code",
   "execution_count": null,
   "metadata": {},
   "outputs": [],
   "source": [
    "import pandas as pd\n",
    "import statsmodels.api as sm\n",
    "import matplotlib.pyplot as plt\n",
    "import seaborn as sns\n",
    "\n",
    "# Load data\n",
    "stations_df = pd.read_csv(\"/Users/jorgen/Documents/LHL/project/Statistical-Modeling-with-Python/data/stations_data.csv\")\n",
    "pois_df = pd.read_csv(\"/Users/jorgen/Documents/LHL/project/Statistical-Modeling-with-Python/data/pois_data.csv\")\n",
    "restaurants_df = pd.read_csv(\"/Users/jorgen/Documents/LHL/project/Statistical-Modeling-with-Python/data/merged_restaurants.csv\")\n",
    "\n",
    "# Feature selection\n",
    "numeric_columns = stations_df.select_dtypes(include=[np.number]).columns.tolist()\n",
    "if len(numeric_columns) < 2:\n",
    "    print(\"Not enough numeric columns for regression. Check dataset.\")\n",
    "else:\n",
    "    X = data[['latitude', 'longitude']]\n",
    "X = sm.\n",
    "y = stations_df[“free_bikes”]\n",
    "\n",
    "    X = sm.add_constant(X)  # adding a constant\n",
    "\n",
    "    # Model fitting\n",
    "    model = sm.OLS(y, X).fit()\n",
    "    print(model.summary())\n",
    "\n",
    "    # Visualizations\n",
    "    sns.heatmap(stations_df[numeric_columns].corr(), annot=True, cmap='coolwarm', fmt=\".2f\")\n",
    "    plt.title('Correlation Matrix')\n",
    "    plt.show()\n",
    "\n",
    "    residuals = model.resid\n",
    "    plt.scatter(y, residuals)\n",
    "    plt.axhline(y=0, color='red', linestyle='--')\n",
    "    plt.xlabel('Observed Values')\n",
    "    plt.ylabel('Residuals')\n",
    "    plt.title('Residual Plot')\n",
    "    plt.show()"
   ]
  },
  {
   "cell_type": "code",
   "execution_count": null,
   "metadata": {},
   "outputs": [],
   "source": [
    "import sqlite3\n",
    "import pandas as pd\n",
    "import statsmodels.api as sm\n",
    "\n",
    "# Define the path for your SQLite database\n",
    "database_path = '/Users/jorgen/Documents/LHL/project/Statistical-Modeling-with-Python/data/project_data.db'\n",
    "\n",
    "# Connect to the SQLite database\n",
    "conn = sqlite3.connect(database_path)\n",
    "\n",
    "# SQL query to select relevant data\n",
    "query = \"SELECT latitude, longitude, free_bikes FROM stations\"  # Adjust based on actual data availability\n",
    "data = pd.read_sql_query(query, conn)  # Execute the query and load data into DataFrame\n",
    "\n",
    "# Prepare the data for regression\n",
    "X = data[['latitude', 'longitude']]  # Predictor variables\n",
    "X = sm.add_constant(X)  # Add a constant term for the intercept\n",
    "y = data['free_bikes']  # Target variable\n",
    "\n",
    "# Fit the linear regression model\n",
    "model = sm.OLS(y, X).fit()  # Create and fit model\n",
    "\n",
    "# Print the summary of the regression results\n",
    "print(model.summary())  # Display detailed statistics\n",
    "\n",
    "# Close the database connection\n",
    "conn.close()\n"
   ]
  },
  {
   "cell_type": "code",
   "execution_count": null,
   "metadata": {},
   "outputs": [],
   "source": [
    "import sqlite3\n",
    "import pandas as pd\n",
    "import numpy as np\n",
    "import statsmodels.api as sm\n",
    "from geopy.distance import geodesic"
   ]
  },
  {
   "cell_type": "code",
   "execution_count": null,
   "metadata": {},
   "outputs": [],
   "source": [
    "# Connect to the SQLite database\n",
    "conn = sqlite3.connect('/Users/jorgen/Documents/LHL/project/Statistical-Modeling-with-Python/data/project_data.db')\n",
    "\n",
    "# SQL Query to fetch necessary data\n",
    "query = \"\"\"\n",
    "   SELECT name, latitude, longitude, free_bikes, rental_name, rental_lat, rental_lon, rental_address, poi_name, poi_lat, poi_lon\n",
    "FROM comprehensive_data;\n",
    "\n",
    "\"\"\""
   ]
  },
  {
   "cell_type": "code",
   "execution_count": null,
   "metadata": {},
   "outputs": [],
   "source": [
    "# Function to calculate distance between two geographic points\n",
    "def haversine(lat1, lon1, lat2, lon2):\n",
    "    R = 6371  # Radius of earth in kilometers\n",
    "    dlat = np.radians(lat2 - lat1)\n",
    "    dlon = np.radians(lon2 - lon1)\n",
    "    a = np.sin(dlat/2)**2 + np.cos(np.radians(lat1)) * np.cos(np.radians(lat2)) * np.sin(dlon/2)**2\n",
    "    c = 2 * np.arctan2(np.sqrt(a), np.sqrt(1-a))\n",
    "    return R * c"
   ]
  },
  {
   "cell_type": "code",
   "execution_count": null,
   "metadata": {},
   "outputs": [],
   "source": [
    "# Function to calculate distance between bike station and restaurant\n",
    "def calculate_distance(row):\n",
    "    station_coords = (row['rental_lat'], row['rental_lon'])\n",
    "    restaurant_coords = (row['latitude'], row['longitude'])  # Using latitude and longitude of the restaurant\n",
    "    return geodesic(station_coords, restaurant_coords).kilometers\n",
    "\n",
    "# Calculate distance to the nearest restaurant\n",
    "data['distance_to_restaurant'] = data.apply(calculate_distance, axis=1)"
   ]
  },
  {
   "cell_type": "code",
   "execution_count": null,
   "metadata": {},
   "outputs": [],
   "source": [
    "# Prepare data for regression\n",
    "X = data[['latitude', 'longitude']]\n",
    "X = sm.add_constant(X)  # adding a constant for intercept\n",
    "y = data['free_bikes']"
   ]
  },
  {
   "cell_type": "code",
   "execution_count": null,
   "metadata": {},
   "outputs": [],
   "source": [
    "def haversine(lon1, lat1, lon2, lat2):\n",
    "    \"\"\"\n",
    "    Calculate the great circle distance in kilometers between two points \n",
    "    on the earth (specified in decimal degrees).\n",
    "    \"\"\"\n",
    "    # convert decimal degrees to radians \n",
    "    lon1, lat1, lon2, lat2 = map(np.radians, [lon1, lat1, lon2, lat2])\n",
    "    \n",
    "    # Haversine formula \n",
    "    dlon = lon2 - lon1 \n",
    "    dlat = lat2 - lat1 \n",
    "    a = np.sin(dlat/2)**2 + np.cos(lat1) * np.cos(lat2) * np.sin(dlon/2)**2\n",
    "    c = 2 * np.arcsin(np.sqrt(a)) \n",
    "    r = 6371 # Radius of earth in kilometers\n",
    "    return c * r\n",
    "\n",
    "# Assuming 'poi_lat' and 'poi_lon' are the coordinates for restaurants\n",
    "data['restaurant_distance'] = data.apply(lambda row: haversine(row['longitude'], row['latitude'], row['poi_lon'], row['poi_lat']), axis=1)"
   ]
  },
  {
   "cell_type": "code",
   "execution_count": null,
   "metadata": {},
   "outputs": [],
   "source": [
    "\n",
    "# Fit the regression model\n",
    "model = sm.OLS(y, X).fit()\n",
    "\n",
    "# Print the model summary\n",
    "print(model.summary())"
   ]
  },
  {
   "cell_type": "code",
   "execution_count": null,
   "metadata": {},
   "outputs": [],
   "source": [
    "stations_df = pd.read_csv(\"/Users/jorgen/Documents/LHL/project/Statistical-Modeling-with-Python/data/stations_data.csv\")\n",
    "restaurants_df = pd.read_csv(\"/Users/jorgen/Documents/LHL/project/Statistical-Modeling-with-Python/data/merged_restaurants.csv\")\n",
    "\n",
    "# Note: filter for bike stations and high-rated restaurants separately.\n",
    "bike_stations = data[data['free_bikes'].notna()]\n",
    "high_rated_restaurants = data[data['Rating_yelp'] > 4]\n",
    "\n",
    "# Define a function to calculate the minimum distance to a high-rated restaurant for each bike station.\n",
    "# Note: The function uses geodesic distance, which accounts for the curvature of the earth,\n",
    "def min_distance_to_restaurant(station, restaurants):\n",
    "    station_location = (station['latitude'], station['longitude'])\n",
    "    # Calculate distances from the current station to all high-rated restaurants\n",
    "    distances = restaurants.apply(lambda x: geodesic(station_location, (x['latitude'], x['longitude'])).meters, axis=1)\n",
    "    return distances.min()\n",
    "\n",
    "# Calculate the minimum distance for each bike station to the nearest high-rated restaurant.\n",
    "# Note: Applying this function across all bike stations helps me understand the accessibility\n",
    "# of quality dining from different bike stations.\n",
    "bike_stations['Min Distance to High Rated Restaurant'] = bike_stations.apply(min_distance_to_restaurant, args=(high_rated_restaurants,), axis=1)\n",
    "\n",
    "# Plotting the results with a scatter plot.\n",
    "# Student Note: Each point represents a bike station, color-coded by the distance to the nearest high-rated restaurant.\n",
    "# This visualization helps in quickly identifying areas with better access to high-quality dining,\n",
    "plt.figure(figsize=(12, 8))\n",
    "scatter = plt.scatter(bike_stations['longitude'], bike_stations['latitude'], c=bike_stations['Min Distance to High Rated Restaurant'], cmap='viridis', s=100, alpha=0.7)\n",
    "plt.colorbar(scatter, label='Distance to Nearest High Rated Restaurant (meters)')\n",
    "plt.title('Bike Stations and Proximity to High Rated Restaurants')\n",
    "plt.xlabel('Longitude')\n",
    "plt.ylabel('Latitude')\n",
    "plt.grid(True)\n",
    "plt.show()"
   ]
  }
 ],
 "metadata": {
  "kernelspec": {
   "display_name": "base",
   "language": "python",
   "name": "python3"
  },
  "language_info": {
   "codemirror_mode": {
    "name": "ipython",
    "version": 3
   },
   "file_extension": ".py",
   "mimetype": "text/x-python",
   "name": "python",
   "nbconvert_exporter": "python",
   "pygments_lexer": "ipython3",
   "version": "3.11.5"
  }
 },
 "nbformat": 4,
 "nbformat_minor": 2
}
